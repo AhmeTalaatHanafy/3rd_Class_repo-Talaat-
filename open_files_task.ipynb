{
 "cells": [
  {
   "cell_type": "markdown",
   "metadata": {},
   "source": [
    "## Task 2.1 [Open Files]\n",
    "\n",
    "> By: Ahmed Talaat Hanafy\n"
   ]
  },
  {
   "cell_type": "markdown",
   "metadata": {},
   "source": [
    "### 1st Part"
   ]
  },
  {
   "cell_type": "code",
   "execution_count": 96,
   "metadata": {},
   "outputs": [
    {
     "name": "stdout",
     "output_type": "stream",
     "text": [
      "['hello_world\\n', 'hello_world\\n', 'hello_world\\n', 'hello_world\\n', 'hello_world\\n']\n"
     ]
    }
   ],
   "source": [
    "## open the file and write in it\n",
    "\n",
    "tst_file = open(\"test.txt\", 'a+')\n",
    "\n",
    "# write in the file\n",
    "\n",
    "tst_file.truncate(0) # removes the file content\n",
    "for i in range(5):\n",
    "    tst_file.write(\"hello_world\")\n",
    "    tst_file.write(\"\\n\")\n",
    "\n",
    "# set the cursor back to the starting point\n",
    "tst_file.seek(0)\n",
    "print(tst_file.readlines())\n",
    "\n",
    "tst_file.close()"
   ]
  },
  {
   "cell_type": "markdown",
   "metadata": {},
   "source": [
    "### 2nd Part"
   ]
  },
  {
   "cell_type": "code",
   "execution_count": 97,
   "metadata": {},
   "outputs": [
    {
     "name": "stdout",
     "output_type": "stream",
     "text": [
      "HELLO_WORLD\n",
      "\n",
      "HELLO_WORLD\n",
      "\n",
      "HELLO_WORLD\n",
      "\n",
      "HELLO_WORLD\n",
      "\n",
      "HELLO_WORLD\n",
      "\n",
      "['hello_world\\n', 'hello_world\\n', 'hello_world\\n', 'hello_world\\n', 'hello_world\\n', 'HELLO_WORLD\\n', 'HELLO_WORLD\\n', 'HELLO_WORLD\\n', 'HELLO_WORLD\\n', 'HELLO_WORLD\\n']\n"
     ]
    }
   ],
   "source": [
    "# read the tst file\n",
    "\n",
    "rd_file = open('test.txt', 'a+')\n",
    "\n",
    "rd_file.seek(0)\n",
    "\n",
    "# storing the lines list in new list\n",
    "lines = list(rd_file.readlines())\n",
    "\n",
    "# looping over the list to update it to upper case\n",
    "for i in range(len(lines)):\n",
    "    lines[i] = lines[i].upper()\n",
    "    print(lines[i])\n",
    "\n",
    "rd_file.writelines(lines) # update the content\n",
    "\n",
    "rd_file.seek(0)\n",
    "print(rd_file.readlines()) # read the file\n",
    "\n",
    "rd_file.close()"
   ]
  },
  {
   "cell_type": "markdown",
   "metadata": {},
   "source": [
    "### 3rd Part"
   ]
  },
  {
   "cell_type": "code",
   "execution_count": 98,
   "metadata": {},
   "outputs": [
    {
     "name": "stdout",
     "output_type": "stream",
     "text": [
      "['hello_world\\n', 'hello_world\\n', 'HELLO_WORLD\\n', 'hello_world\\n', 'hello_world\\n', 'HELLO_WORLD\\n', 'HELLO_WORLD\\n', 'HELLO_WORLD\\n', 'HELLO_WORLD\\n', 'HELLO_WORLD\\n']\n"
     ]
    }
   ],
   "source": [
    "# read the tst file\n",
    "\n",
    "rd_file = open('test.txt', 'a+')\n",
    "\n",
    "rd_file.seek(0)\n",
    "\n",
    "# storing the lines list in new list\n",
    "lines = list(rd_file.readlines())\n",
    "\n",
    "# change the 3rd line content\n",
    "lines[2] = lines[2].upper()\n",
    "\n",
    "rd_file.truncate(0) #clear the content to update\n",
    "rd_file.writelines(lines) # update the content\n",
    "\n",
    "rd_file.seek(0)\n",
    "print(rd_file.readlines()) # read the file\n",
    "\n",
    "rd_file.close()"
   ]
  },
  {
   "cell_type": "markdown",
   "metadata": {},
   "source": [
    "### 4th Part"
   ]
  },
  {
   "cell_type": "code",
   "execution_count": 99,
   "metadata": {},
   "outputs": [
    {
     "name": "stdout",
     "output_type": "stream",
     "text": [
      "['hello_world\\n', 'hello_world\\n', 'HELLO_WORLD\\n', 'hello_world\\n', 'hello_world\\n', 'HELLO_WORLD\\n', 'HELLO_WORLD\\n', 'HELLO_WORLD\\n', 'HELLO_WORLD\\n', 'HELLO_WORLD\\n', 'I Love python\\n']\n"
     ]
    }
   ],
   "source": [
    "#use with statement \n",
    "with open(\"test.txt\", 'a+') as up_file:\n",
    "    up_file.write(\"I Love python\")\n",
    "    up_file.write(\"\\n\")\n",
    "    up_file.seek(0)\n",
    "    print(up_file.readlines())"
   ]
  },
  {
   "cell_type": "markdown",
   "metadata": {},
   "source": [
    "## Task End"
   ]
  },
  {
   "cell_type": "code",
   "execution_count": null,
   "metadata": {},
   "outputs": [],
   "source": []
  }
 ],
 "metadata": {
  "kernelspec": {
   "display_name": "Python 3",
   "language": "python",
   "name": "python3"
  },
  "language_info": {
   "codemirror_mode": {
    "name": "ipython",
    "version": 3
   },
   "file_extension": ".py",
   "mimetype": "text/x-python",
   "name": "python",
   "nbconvert_exporter": "python",
   "pygments_lexer": "ipython3",
   "version": "3.7.6"
  }
 },
 "nbformat": 4,
 "nbformat_minor": 4
}
