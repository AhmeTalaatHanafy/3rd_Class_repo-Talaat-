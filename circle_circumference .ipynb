{
 "cells": [
  {
   "cell_type": "markdown",
   "metadata": {},
   "source": [
    "## Task #1.1 [Calc. the Circumference of Circle] \n",
    "\n",
    "> by: Ahmed Talaat Hanafy"
   ]
  },
  {
   "cell_type": "code",
   "execution_count": 3,
   "metadata": {},
   "outputs": [
    {
     "name": "stdout",
     "output_type": "stream",
     "text": [
      "Enter the Diameter: 10\n"
     ]
    }
   ],
   "source": [
    "# user input the circle diameter\n",
    "\n",
    "dia = int(input(\"Enter the Diameter: \"))\n",
    "\n",
    "# calc the circumference ,area and store the values\n",
    "\n",
    "circum = round(3.14*dia, 2)\n",
    "area = 3.14*(dia/2)**2\n",
    "\n"
   ]
  },
  {
   "cell_type": "code",
   "execution_count": 4,
   "metadata": {},
   "outputs": [
    {
     "name": "stdout",
     "output_type": "stream",
     "text": [
      "Circle's diameter is: 10\n",
      "The circumference is: 31.4\n",
      "The area is: 78.5\n"
     ]
    }
   ],
   "source": [
    "# print the area and circum\n",
    "\n",
    "print(f\"Circle's diameter is: {dia}\\nThe circumference is: {circum}\\nThe area is: {area}\")\n"
   ]
  },
  {
   "cell_type": "markdown",
   "metadata": {},
   "source": [
    "### Task End"
   ]
  },
  {
   "cell_type": "code",
   "execution_count": null,
   "metadata": {},
   "outputs": [],
   "source": []
  }
 ],
 "metadata": {
  "kernelspec": {
   "display_name": "Python 3",
   "language": "python",
   "name": "python3"
  },
  "language_info": {
   "codemirror_mode": {
    "name": "ipython",
    "version": 3
   },
   "file_extension": ".py",
   "mimetype": "text/x-python",
   "name": "python",
   "nbconvert_exporter": "python",
   "pygments_lexer": "ipython3",
   "version": "3.7.6"
  }
 },
 "nbformat": 4,
 "nbformat_minor": 4
}
