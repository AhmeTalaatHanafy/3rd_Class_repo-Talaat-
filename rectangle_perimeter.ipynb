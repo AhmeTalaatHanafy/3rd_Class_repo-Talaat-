{
 "cells": [
  {
   "cell_type": "markdown",
   "metadata": {},
   "source": [
    "## Task #1.2 [Calc. the rectangle perimeter]\n",
    "\n",
    "> By: Ahmed Talaat Hanafy\n"
   ]
  },
  {
   "cell_type": "code",
   "execution_count": 1,
   "metadata": {},
   "outputs": [
    {
     "name": "stdout",
     "output_type": "stream",
     "text": [
      "Enter the length: 2\n",
      "Enter the width: 2\n"
     ]
    }
   ],
   "source": [
    "# user inputs the length and width\n",
    "\n",
    "l = int(input(\"Enter the length: \"))\n",
    "w = int(input(\"Enter the width: \"))\n",
    "\n",
    "# calc the area and perimeter \n",
    "peri = 2*(l+w)\n",
    "area = l*w\n"
   ]
  },
  {
   "cell_type": "code",
   "execution_count": 2,
   "metadata": {},
   "outputs": [
    {
     "name": "stdout",
     "output_type": "stream",
     "text": [
      "Rectangle's length is: 2, and width is: 2\n",
      "The Perimeter is: 8\n",
      "The area is: 4\n"
     ]
    }
   ],
   "source": [
    "# print the area and circum values\n",
    "print(f\"Rectangle's length is: {l}, and width is: {w}\\nThe Perimeter is: {peri}\\nThe area is: {area}\")"
   ]
  },
  {
   "cell_type": "markdown",
   "metadata": {},
   "source": [
    "### Task End"
   ]
  },
  {
   "cell_type": "code",
   "execution_count": null,
   "metadata": {},
   "outputs": [],
   "source": []
  }
 ],
 "metadata": {
  "kernelspec": {
   "display_name": "Python 3",
   "language": "python",
   "name": "python3"
  },
  "language_info": {
   "codemirror_mode": {
    "name": "ipython",
    "version": 3
   },
   "file_extension": ".py",
   "mimetype": "text/x-python",
   "name": "python",
   "nbconvert_exporter": "python",
   "pygments_lexer": "ipython3",
   "version": "3.7.6"
  }
 },
 "nbformat": 4,
 "nbformat_minor": 4
}
